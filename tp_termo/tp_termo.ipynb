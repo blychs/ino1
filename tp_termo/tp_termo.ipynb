{
 "cells": [
  {
   "cell_type": "code",
   "execution_count": 1,
   "id": "peaceful-wealth",
   "metadata": {},
   "outputs": [],
   "source": [
    "#%matplotlib widget\n",
    "import numpy as np\n",
    "import pandas as pd\n",
    "import matplotlib.pyplot as plt\n",
    "from ipywidgets import widgets, interact, interactive, fixed, interact_manual\n",
    "\n",
    "def ck(m1, m2, t1, t2, tf):\n",
    "    Cp = 4.184\n",
    "    dT = lambda t, tf: tf - t\n",
    "    return(-(m1 * Cp * dT(t1, tf) + m2 * Cp * dT(t2, tf))/dT(t1, tf))\n",
    "\n",
    "def dH(m_h2o, m_naoh, Ck, t1, tf):\n",
    "    Mr = 39.997\n",
    "    Cp = 4.184\n",
    "    dT = tf - t1\n",
    "    m = m_h2o + m_naoh\n",
    "    return -(m * Cp * dT + Ck * dT) * Mr / m_naoh / 1000\n",
    "\n",
    "dH_rxn = []"
   ]
  },
  {
   "cell_type": "code",
   "execution_count": 2,
   "id": "executive-samba",
   "metadata": {},
   "outputs": [
    {
     "data": {
      "text/html": [
       "<div>\n",
       "<style scoped>\n",
       "    .dataframe tbody tr th:only-of-type {\n",
       "        vertical-align: middle;\n",
       "    }\n",
       "\n",
       "    .dataframe tbody tr th {\n",
       "        vertical-align: top;\n",
       "    }\n",
       "\n",
       "    .dataframe thead th {\n",
       "        text-align: right;\n",
       "    }\n",
       "</style>\n",
       "<table border=\"1\" class=\"dataframe\">\n",
       "  <thead>\n",
       "    <tr style=\"text-align: right;\">\n",
       "      <th></th>\n",
       "      <th>Exp</th>\n",
       "      <th>m1</th>\n",
       "      <th>m2</th>\n",
       "      <th>mNaOH</th>\n",
       "      <th>mHcl</th>\n",
       "      <th>T1</th>\n",
       "      <th>T2</th>\n",
       "      <th>Tf</th>\n",
       "      <th>Resultados</th>\n",
       "      <th>Unnamed: 9</th>\n",
       "    </tr>\n",
       "  </thead>\n",
       "  <tbody>\n",
       "    <tr>\n",
       "      <th>0</th>\n",
       "      <td>Ck1</td>\n",
       "      <td>45.133</td>\n",
       "      <td>56.111</td>\n",
       "      <td>NaN</td>\n",
       "      <td>NaN</td>\n",
       "      <td>46.3</td>\n",
       "      <td>23.5</td>\n",
       "      <td>36.5</td>\n",
       "      <td>122.591</td>\n",
       "      <td>NaN</td>\n",
       "    </tr>\n",
       "    <tr>\n",
       "      <th>1</th>\n",
       "      <td>Ck2</td>\n",
       "      <td>49.810</td>\n",
       "      <td>36.031</td>\n",
       "      <td>NaN</td>\n",
       "      <td>NaN</td>\n",
       "      <td>45.1</td>\n",
       "      <td>23.3</td>\n",
       "      <td>37.5</td>\n",
       "      <td>73.266</td>\n",
       "      <td>NaN</td>\n",
       "    </tr>\n",
       "    <tr>\n",
       "      <th>2</th>\n",
       "      <td>Ck3</td>\n",
       "      <td>46.344</td>\n",
       "      <td>45.883</td>\n",
       "      <td>NaN</td>\n",
       "      <td>NaN</td>\n",
       "      <td>45.8</td>\n",
       "      <td>23.5</td>\n",
       "      <td>36.2</td>\n",
       "      <td>60.046</td>\n",
       "      <td>NaN</td>\n",
       "    </tr>\n",
       "    <tr>\n",
       "      <th>3</th>\n",
       "      <td>NaOH 1</td>\n",
       "      <td>NaN</td>\n",
       "      <td>NaN</td>\n",
       "      <td>0.999</td>\n",
       "      <td>97.92</td>\n",
       "      <td>25.2</td>\n",
       "      <td>NaN</td>\n",
       "      <td>30.0</td>\n",
       "      <td>-96.060</td>\n",
       "      <td>con Ck = 90 J/K</td>\n",
       "    </tr>\n",
       "    <tr>\n",
       "      <th>4</th>\n",
       "      <td>NaOH 2</td>\n",
       "      <td>NaN</td>\n",
       "      <td>NaN</td>\n",
       "      <td>1.019</td>\n",
       "      <td>102.09</td>\n",
       "      <td>24.5</td>\n",
       "      <td>NaN</td>\n",
       "      <td>29.8</td>\n",
       "      <td>-107.580</td>\n",
       "      <td>con Ck = 90 J/K</td>\n",
       "    </tr>\n",
       "  </tbody>\n",
       "</table>\n",
       "</div>"
      ],
      "text/plain": [
       "      Exp      m1      m2  mNaOH    mHcl    T1    T2    Tf  Resultados  \\\n",
       "0     Ck1  45.133  56.111    NaN     NaN  46.3  23.5  36.5     122.591   \n",
       "1     Ck2  49.810  36.031    NaN     NaN  45.1  23.3  37.5      73.266   \n",
       "2     Ck3  46.344  45.883    NaN     NaN  45.8  23.5  36.2      60.046   \n",
       "3  NaOH 1     NaN     NaN  0.999   97.92  25.2   NaN  30.0     -96.060   \n",
       "4  NaOH 2     NaN     NaN  1.019  102.09  24.5   NaN  29.8    -107.580   \n",
       "\n",
       "        Unnamed: 9  \n",
       "0              NaN  \n",
       "1              NaN  \n",
       "2              NaN  \n",
       "3  con Ck = 90 J/K  \n",
       "4  con Ck = 90 J/K  "
      ]
     },
     "metadata": {},
     "output_type": "display_data"
    },
    {
     "data": {
      "text/plain": [
       "0    122.591029\n",
       "1     73.266354\n",
       "2     60.062933\n",
       "3           NaN\n",
       "4           NaN\n",
       "dtype: float64"
      ]
     },
     "metadata": {},
     "output_type": "display_data"
    },
    {
     "data": {
      "text/plain": [
       "0           NaN\n",
       "1           NaN\n",
       "2           NaN\n",
       "3    -92.349444\n",
       "4   -103.614812\n",
       "dtype: float64"
      ]
     },
     "metadata": {},
     "output_type": "display_data"
    },
    {
     "name": "stdout",
     "output_type": "stream",
     "text": [
      "[-103.61481150872012, -92.34944361688461]\n"
     ]
    }
   ],
   "source": [
    "# CONSTANZA ACETO\n",
    "datos = pd.read_excel('TP_Termo_Aceto Constanza.xlsx')\n",
    "display(datos)\n",
    "\n",
    "Ck = ck(datos['m1'], datos['m2'], datos['T1'], datos['T2'], datos['Tf'])\n",
    "display(Ck)\n",
    "\n",
    "deltaH = dH(datos['mHcl'], datos['mNaOH'], (Ck[1]+ Ck[2])/2, datos['T1'], datos['Tf'])\n",
    "display(deltaH)\n",
    "\n",
    "dH_rxn.append(deltaH.iloc[-1])\n",
    "dH_rxn.append(deltaH.iloc[-2])\n",
    "print(dH_rxn)"
   ]
  },
  {
   "cell_type": "code",
   "execution_count": 3,
   "id": "hollywood-correspondence",
   "metadata": {},
   "outputs": [
    {
     "data": {
      "text/html": [
       "<div>\n",
       "<style scoped>\n",
       "    .dataframe tbody tr th:only-of-type {\n",
       "        vertical-align: middle;\n",
       "    }\n",
       "\n",
       "    .dataframe tbody tr th {\n",
       "        vertical-align: top;\n",
       "    }\n",
       "\n",
       "    .dataframe thead th {\n",
       "        text-align: right;\n",
       "    }\n",
       "</style>\n",
       "<table border=\"1\" class=\"dataframe\">\n",
       "  <thead>\n",
       "    <tr style=\"text-align: right;\">\n",
       "      <th></th>\n",
       "      <th>Exp</th>\n",
       "      <th>T1</th>\n",
       "      <th>T2</th>\n",
       "      <th>Tf</th>\n",
       "      <th>m1</th>\n",
       "      <th>m2</th>\n",
       "      <th>RESULTADO</th>\n",
       "    </tr>\n",
       "  </thead>\n",
       "  <tbody>\n",
       "    <tr>\n",
       "      <th>0</th>\n",
       "      <td>Ck1</td>\n",
       "      <td>45.5</td>\n",
       "      <td>23.8</td>\n",
       "      <td>35.0</td>\n",
       "      <td>48.02</td>\n",
       "      <td>49.00</td>\n",
       "      <td>17.77</td>\n",
       "    </tr>\n",
       "    <tr>\n",
       "      <th>1</th>\n",
       "      <td>Ck2</td>\n",
       "      <td>45.7</td>\n",
       "      <td>24.0</td>\n",
       "      <td>35.2</td>\n",
       "      <td>48.61</td>\n",
       "      <td>49.30</td>\n",
       "      <td>29.17</td>\n",
       "    </tr>\n",
       "    <tr>\n",
       "      <th>2</th>\n",
       "      <td>NaN</td>\n",
       "      <td>NaN</td>\n",
       "      <td>NaN</td>\n",
       "      <td>NaN</td>\n",
       "      <td>NaN</td>\n",
       "      <td>NaN</td>\n",
       "      <td>NaN</td>\n",
       "    </tr>\n",
       "    <tr>\n",
       "      <th>3</th>\n",
       "      <td>NaN</td>\n",
       "      <td>NaN</td>\n",
       "      <td>NaN</td>\n",
       "      <td>NaN</td>\n",
       "      <td>NaN</td>\n",
       "      <td>NaN</td>\n",
       "      <td>NaN</td>\n",
       "    </tr>\n",
       "    <tr>\n",
       "      <th>4</th>\n",
       "      <td>deltaH</td>\n",
       "      <td>24.3</td>\n",
       "      <td>29.4</td>\n",
       "      <td>NaN</td>\n",
       "      <td>1.00</td>\n",
       "      <td>99.95</td>\n",
       "      <td>88936.00</td>\n",
       "    </tr>\n",
       "    <tr>\n",
       "      <th>5</th>\n",
       "      <td>deltaH</td>\n",
       "      <td>24.3</td>\n",
       "      <td>29.4</td>\n",
       "      <td>NaN</td>\n",
       "      <td>1.00</td>\n",
       "      <td>99.95</td>\n",
       "      <td>91261.00</td>\n",
       "    </tr>\n",
       "  </tbody>\n",
       "</table>\n",
       "</div>"
      ],
      "text/plain": [
       "      Exp    T1    T2    Tf     m1     m2  RESULTADO\n",
       "0     Ck1  45.5  23.8  35.0  48.02  49.00      17.77\n",
       "1     Ck2  45.7  24.0  35.2  48.61  49.30      29.17\n",
       "2     NaN   NaN   NaN   NaN    NaN    NaN        NaN\n",
       "3     NaN   NaN   NaN   NaN    NaN    NaN        NaN\n",
       "4  deltaH  24.3  29.4   NaN   1.00  99.95   88936.00\n",
       "5  deltaH  24.3  29.4   NaN   1.00  99.95   91261.00"
      ]
     },
     "metadata": {},
     "output_type": "display_data"
    },
    {
     "data": {
      "text/plain": [
       "0    17.768053\n",
       "1    16.638373\n",
       "2          NaN\n",
       "3          NaN\n",
       "4          NaN\n",
       "5          NaN\n",
       "dtype: float64"
      ]
     },
     "metadata": {},
     "output_type": "display_data"
    },
    {
     "data": {
      "text/plain": [
       "0     7.647929\n",
       "1     7.621591\n",
       "2          NaN\n",
       "3          NaN\n",
       "4   -89.667189\n",
       "5   -89.667189\n",
       "dtype: float64"
      ]
     },
     "metadata": {},
     "output_type": "display_data"
    },
    {
     "name": "stdout",
     "output_type": "stream",
     "text": [
      "[-103.61481150872012, -92.34944361688461, -89.66718917639596]\n"
     ]
    }
   ],
   "source": [
    "# TOMÁS DE ARTECHE\n",
    "datos = pd.read_excel('tp_termo_dearteche.xlsx')\n",
    "display(datos)\n",
    "\n",
    "Ck = ck(datos['m1'], datos['m2'], datos['T1'], datos['T2'], datos['Tf'])\n",
    "display(Ck)\n",
    "\n",
    "deltaH = dH(datos['m2'], datos['m1'], (Ck[0] + Ck[1])/2, datos['T1'], datos['T2'])\n",
    "display(deltaH)\n",
    "\n",
    "dH_rxn.append(deltaH.iloc[-1])\n",
    "print(dH_rxn)"
   ]
  },
  {
   "cell_type": "code",
   "execution_count": 4,
   "id": "atomic-mainland",
   "metadata": {},
   "outputs": [
    {
     "data": {
      "text/html": [
       "<div>\n",
       "<style scoped>\n",
       "    .dataframe tbody tr th:only-of-type {\n",
       "        vertical-align: middle;\n",
       "    }\n",
       "\n",
       "    .dataframe tbody tr th {\n",
       "        vertical-align: top;\n",
       "    }\n",
       "\n",
       "    .dataframe thead th {\n",
       "        text-align: right;\n",
       "    }\n",
       "</style>\n",
       "<table border=\"1\" class=\"dataframe\">\n",
       "  <thead>\n",
       "    <tr style=\"text-align: right;\">\n",
       "      <th></th>\n",
       "      <th>Exp</th>\n",
       "      <th>T1</th>\n",
       "      <th>T2</th>\n",
       "      <th>Tf</th>\n",
       "      <th>m1</th>\n",
       "      <th>m2</th>\n",
       "      <th>mNaOH</th>\n",
       "      <th>mHCl</th>\n",
       "      <th>resultado</th>\n",
       "    </tr>\n",
       "  </thead>\n",
       "  <tbody>\n",
       "    <tr>\n",
       "      <th>0</th>\n",
       "      <td>ck1</td>\n",
       "      <td>42.50</td>\n",
       "      <td>23.4</td>\n",
       "      <td>35.8</td>\n",
       "      <td>51.146</td>\n",
       "      <td>51.000</td>\n",
       "      <td>NaN</td>\n",
       "      <td>NaN</td>\n",
       "      <td>180.90</td>\n",
       "    </tr>\n",
       "    <tr>\n",
       "      <th>1</th>\n",
       "      <td>ck2</td>\n",
       "      <td>36.20</td>\n",
       "      <td>23.4</td>\n",
       "      <td>24.5</td>\n",
       "      <td>51.011</td>\n",
       "      <td>50.301</td>\n",
       "      <td>NaN</td>\n",
       "      <td>NaN</td>\n",
       "      <td>194.21</td>\n",
       "    </tr>\n",
       "    <tr>\n",
       "      <th>2</th>\n",
       "      <td>deltaH</td>\n",
       "      <td>24.35</td>\n",
       "      <td>NaN</td>\n",
       "      <td>29.5</td>\n",
       "      <td>NaN</td>\n",
       "      <td>NaN</td>\n",
       "      <td>1.025</td>\n",
       "      <td>102.411</td>\n",
       "      <td>NaN</td>\n",
       "    </tr>\n",
       "  </tbody>\n",
       "</table>\n",
       "</div>"
      ],
      "text/plain": [
       "      Exp     T1    T2    Tf      m1      m2  mNaOH     mHCl  resultado\n",
       "0     ck1  42.50  23.4  35.8  51.146  51.000    NaN      NaN     180.90\n",
       "1     ck2  36.20  23.4  24.5  51.011  50.301    NaN      NaN     194.21\n",
       "2  deltaH  24.35   NaN  29.5     NaN     NaN  1.025  102.411        NaN"
      ]
     },
     "metadata": {},
     "output_type": "display_data"
    },
    {
     "data": {
      "text/plain": [
       "0    180.924778\n",
       "1   -193.643244\n",
       "2           NaN\n",
       "dtype: float64"
      ]
     },
     "metadata": {},
     "output_type": "display_data"
    },
    {
     "data": {
      "text/plain": [
       "0           NaN\n",
       "1           NaN\n",
       "2   -123.329683\n",
       "dtype: float64"
      ]
     },
     "metadata": {},
     "output_type": "display_data"
    },
    {
     "name": "stdout",
     "output_type": "stream",
     "text": [
      "[-103.61481150872012, -92.34944361688461, -89.66718917639596, -123.32968262290488]\n"
     ]
    }
   ],
   "source": [
    "# PABLO AVEDAÑO\n",
    "datos = pd.read_csv('tp_termo_avedanio.csv')\n",
    "display(datos)\n",
    "\n",
    "Ck = ck(datos['m1'], datos['m2'], datos['T1'], datos['T2'], datos['Tf'])\n",
    "display(Ck)\n",
    "\n",
    "deltaH = dH(datos['mHCl'], datos['mNaOH'], Ck[0], datos['T1'], datos['Tf'])\n",
    "display(deltaH)\n",
    "\n",
    "dH_rxn.append(deltaH.iloc[-1])\n",
    "print(dH_rxn)"
   ]
  },
  {
   "cell_type": "code",
   "execution_count": 5,
   "id": "expensive-district",
   "metadata": {},
   "outputs": [
    {
     "data": {
      "text/html": [
       "<div>\n",
       "<style scoped>\n",
       "    .dataframe tbody tr th:only-of-type {\n",
       "        vertical-align: middle;\n",
       "    }\n",
       "\n",
       "    .dataframe tbody tr th {\n",
       "        vertical-align: top;\n",
       "    }\n",
       "\n",
       "    .dataframe thead th {\n",
       "        text-align: right;\n",
       "    }\n",
       "</style>\n",
       "<table border=\"1\" class=\"dataframe\">\n",
       "  <thead>\n",
       "    <tr style=\"text-align: right;\">\n",
       "      <th></th>\n",
       "      <th>Exp</th>\n",
       "      <th>masa 1</th>\n",
       "      <th>masa 2</th>\n",
       "      <th>T1</th>\n",
       "      <th>T2</th>\n",
       "      <th>TF</th>\n",
       "      <th>resultados</th>\n",
       "    </tr>\n",
       "  </thead>\n",
       "  <tbody>\n",
       "    <tr>\n",
       "      <th>0</th>\n",
       "      <td>ck_1</td>\n",
       "      <td>49.496</td>\n",
       "      <td>47.908</td>\n",
       "      <td>47.8</td>\n",
       "      <td>22.4</td>\n",
       "      <td>36.7</td>\n",
       "      <td>52.910</td>\n",
       "    </tr>\n",
       "    <tr>\n",
       "      <th>1</th>\n",
       "      <td>ck_2</td>\n",
       "      <td>48.796</td>\n",
       "      <td>48.243</td>\n",
       "      <td>47.5</td>\n",
       "      <td>23.4</td>\n",
       "      <td>37.2</td>\n",
       "      <td>53.760</td>\n",
       "    </tr>\n",
       "    <tr>\n",
       "      <th>2</th>\n",
       "      <td>dH_1</td>\n",
       "      <td>99.393</td>\n",
       "      <td>1.054</td>\n",
       "      <td>NaN</td>\n",
       "      <td>24.8</td>\n",
       "      <td>29.7</td>\n",
       "      <td>-91.962</td>\n",
       "    </tr>\n",
       "    <tr>\n",
       "      <th>3</th>\n",
       "      <td>dH_2</td>\n",
       "      <td>99.009</td>\n",
       "      <td>1.000</td>\n",
       "      <td>NaN</td>\n",
       "      <td>24.8</td>\n",
       "      <td>29.8</td>\n",
       "      <td>-93.517</td>\n",
       "    </tr>\n",
       "  </tbody>\n",
       "</table>\n",
       "</div>"
      ],
      "text/plain": [
       "    Exp  masa 1   masa 2    T1    T2    TF  resultados\n",
       "0  ck_1   49.496  47.908  47.8  22.4  36.7      52.910\n",
       "1  ck_2   48.796  48.243  47.5  23.4  37.2      53.760\n",
       "2  dH_1   99.393   1.054   NaN  24.8  29.7     -91.962\n",
       "3  dH_2   99.009   1.000   NaN  24.8  29.8     -93.517"
      ]
     },
     "metadata": {},
     "output_type": "display_data"
    },
    {
     "name": "stdout",
     "output_type": "stream",
     "text": [
      "Index(['Exp', 'masa 1 ', 'masa 2', 'T1', 'T2', 'TF', 'resultados'], dtype='object')\n"
     ]
    },
    {
     "data": {
      "text/plain": [
       "0    51.142351\n",
       "1    66.275616\n",
       "2          NaN\n",
       "3          NaN\n",
       "dtype: float64"
      ]
     },
     "metadata": {},
     "output_type": "display_data"
    },
    {
     "data": {
      "text/plain": [
       "0    -5.656701\n",
       "1    -5.403535\n",
       "2   -90.470434\n",
       "3   -96.935384\n",
       "dtype: float64"
      ]
     },
     "metadata": {},
     "output_type": "display_data"
    },
    {
     "name": "stdout",
     "output_type": "stream",
     "text": [
      "[-103.61481150872012, -92.34944361688461, -89.66718917639596, -123.32968262290488, -96.93538373198565, -90.47043372888382]\n"
     ]
    }
   ],
   "source": [
    "# VICENTE DELL'ORO SANSONI\n",
    "datos = pd.read_excel('TP_vicente.xlsx')\n",
    "display(datos)\n",
    "print(datos.keys())\n",
    "\n",
    "Ck = ck(datos['masa 1 '], datos['masa 2'], datos['T1'], datos['T2'], datos['TF'])\n",
    "display(Ck)\n",
    "\n",
    "deltaH = dH(datos['masa 1 '], datos['masa 2'], (Ck[1] + Ck[1])/2, datos['T2'], datos['TF'])\n",
    "display(deltaH)\n",
    "\n",
    "dH_rxn.append(deltaH.iloc[-1])\n",
    "dH_rxn.append(deltaH.iloc[-2])\n",
    "print(dH_rxn)"
   ]
  },
  {
   "cell_type": "code",
   "execution_count": 6,
   "id": "turned-clinic",
   "metadata": {},
   "outputs": [
    {
     "data": {
      "text/html": [
       "<div>\n",
       "<style scoped>\n",
       "    .dataframe tbody tr th:only-of-type {\n",
       "        vertical-align: middle;\n",
       "    }\n",
       "\n",
       "    .dataframe tbody tr th {\n",
       "        vertical-align: top;\n",
       "    }\n",
       "\n",
       "    .dataframe thead th {\n",
       "        text-align: right;\n",
       "    }\n",
       "</style>\n",
       "<table border=\"1\" class=\"dataframe\">\n",
       "  <thead>\n",
       "    <tr style=\"text-align: right;\">\n",
       "      <th></th>\n",
       "      <th>Exp</th>\n",
       "      <th>T1(s)</th>\n",
       "      <th>T2(s)</th>\n",
       "      <th>TF(s)</th>\n",
       "      <th>Resultado (J)</th>\n",
       "      <th>m1 (g)</th>\n",
       "      <th>m2 (g)</th>\n",
       "    </tr>\n",
       "  </thead>\n",
       "  <tbody>\n",
       "    <tr>\n",
       "      <th>0</th>\n",
       "      <td>CK1</td>\n",
       "      <td>47.2</td>\n",
       "      <td>25</td>\n",
       "      <td>35.0</td>\n",
       "      <td>16.7</td>\n",
       "      <td>51.83</td>\n",
       "      <td>48.0</td>\n",
       "    </tr>\n",
       "    <tr>\n",
       "      <th>1</th>\n",
       "      <td>CK2</td>\n",
       "      <td>44.4</td>\n",
       "      <td>25</td>\n",
       "      <td>34.5</td>\n",
       "      <td>35.0</td>\n",
       "      <td>48.00</td>\n",
       "      <td>45.8</td>\n",
       "    </tr>\n",
       "  </tbody>\n",
       "</table>\n",
       "</div>"
      ],
      "text/plain": [
       "   Exp  T1(s)  T2(s)  TF(s)  Resultado (J)  m1 (g)  m2 (g)\n",
       "0  CK1   47.2     25   35.0           16.7   51.83    48.0\n",
       "1  CK2   44.4     25   34.5           35.0   48.00    45.8"
      ]
     },
     "metadata": {},
     "output_type": "display_data"
    },
    {
     "name": "stdout",
     "output_type": "stream",
     "text": [
      "Index(['Exp', 'T1(s)', 'T2(s)', 'TF(s)', 'Resultado (J)', 'm1 (g)', 'm2 (g)'], dtype='object')\n"
     ]
    },
    {
     "data": {
      "text/plain": [
       "0   -52.240327\n",
       "1   -16.947313\n",
       "dtype: float64"
      ]
     },
     "metadata": {},
     "output_type": "display_data"
    }
   ],
   "source": [
    "# GABIEL GONZÁLEZ\n",
    "datos = pd.read_csv('DatosTermo_Gonzalez - Hoja 1.csv')\n",
    "display(datos)\n",
    "print(datos.keys())\n",
    "\n",
    "Ck = ck(datos['m1 (g)'], datos['m2 (g)'], datos['T1(s)'], datos['T2(s)'], datos['TF(s)'])\n",
    "display(Ck)\n",
    "\n",
    "#deltaH = dH(datos['masa 1 '], datos['masa 2'], (Ck[1] + Ck[1])/2, datos['T2'], datos['TF'])\n",
    "#display(deltaH)"
   ]
  },
  {
   "cell_type": "code",
   "execution_count": 7,
   "id": "oriented-maple",
   "metadata": {},
   "outputs": [
    {
     "data": {
      "text/html": [
       "<div>\n",
       "<style scoped>\n",
       "    .dataframe tbody tr th:only-of-type {\n",
       "        vertical-align: middle;\n",
       "    }\n",
       "\n",
       "    .dataframe tbody tr th {\n",
       "        vertical-align: top;\n",
       "    }\n",
       "\n",
       "    .dataframe thead th {\n",
       "        text-align: right;\n",
       "    }\n",
       "</style>\n",
       "<table border=\"1\" class=\"dataframe\">\n",
       "  <thead>\n",
       "    <tr style=\"text-align: right;\">\n",
       "      <th></th>\n",
       "      <th>Experiencia</th>\n",
       "      <th>T1</th>\n",
       "      <th>T2</th>\n",
       "      <th>Tf</th>\n",
       "      <th>Resultado</th>\n",
       "      <th>masa 1</th>\n",
       "      <th>masa 2</th>\n",
       "    </tr>\n",
       "  </thead>\n",
       "  <tbody>\n",
       "    <tr>\n",
       "      <th>0</th>\n",
       "      <td>Ck1</td>\n",
       "      <td>45.0</td>\n",
       "      <td>22.4</td>\n",
       "      <td>35.5</td>\n",
       "      <td>65.73</td>\n",
       "      <td>49.599</td>\n",
       "      <td>46.657</td>\n",
       "    </tr>\n",
       "    <tr>\n",
       "      <th>1</th>\n",
       "      <td>Ck2</td>\n",
       "      <td>46.8</td>\n",
       "      <td>22.4</td>\n",
       "      <td>36.4</td>\n",
       "      <td>72.72</td>\n",
       "      <td>47.220</td>\n",
       "      <td>47.323</td>\n",
       "    </tr>\n",
       "    <tr>\n",
       "      <th>2</th>\n",
       "      <td>Delta H</td>\n",
       "      <td>24.0</td>\n",
       "      <td>NaN</td>\n",
       "      <td>30.3</td>\n",
       "      <td>-112.99</td>\n",
       "      <td>99.989</td>\n",
       "      <td>1.079</td>\n",
       "    </tr>\n",
       "  </tbody>\n",
       "</table>\n",
       "</div>"
      ],
      "text/plain": [
       "  Experiencia    T1    T2    Tf  Resultado  masa 1  masa 2\n",
       "0         Ck1  45.0  22.4  35.5      65.73  49.599  46.657\n",
       "1         Ck2  46.8  22.4  36.4      72.72  47.220  47.323\n",
       "2     Delta H  24.0   NaN  30.3    -112.99  99.989   1.079"
      ]
     },
     "metadata": {},
     "output_type": "display_data"
    },
    {
     "name": "stdout",
     "output_type": "stream",
     "text": [
      "Index(['Experiencia', 'T1', 'T2', 'Tf', 'Resultado', 'masa 1', 'masa 2'], dtype='object')\n"
     ]
    },
    {
     "data": {
      "text/plain": [
       "0    61.666082\n",
       "1    68.969217\n",
       "2          NaN\n",
       "dtype: float64"
      ]
     },
     "metadata": {},
     "output_type": "display_data"
    },
    {
     "data": {
      "text/plain": [
       "0      3.811790\n",
       "1      4.051180\n",
       "2   -114.007123\n",
       "dtype: float64"
      ]
     },
     "metadata": {},
     "output_type": "display_data"
    },
    {
     "name": "stdout",
     "output_type": "stream",
     "text": [
      "[-103.61481150872012, -92.34944361688461, -89.66718917639596, -123.32968262290488, -96.93538373198565, -90.47043372888382, -114.0071232564671]\n"
     ]
    }
   ],
   "source": [
    "# MATIAS NAHUEL GUERRERO\n",
    "datos = pd.read_csv('tp_termo_guerrero.csv')\n",
    "display(datos)\n",
    "print(datos.keys())\n",
    "\n",
    "Ck = ck(datos['masa 1'], datos['masa 2'], datos['T1'], datos['T2'], datos['Tf'])\n",
    "display(Ck)\n",
    "\n",
    "deltaH = dH(datos['masa 1'], datos['masa 2'], (Ck[0] + Ck[1])/2, datos['T1'], datos['Tf'])\n",
    "#deltaH = dH(datos['masa 1'], datos['masa 2'], (65.63 + 72.72)/2, datos['T1'], datos['Tf'])\n",
    "display(deltaH)\n",
    "\n",
    "dH_rxn.append(deltaH.iloc[-1])\n",
    "print(dH_rxn)"
   ]
  },
  {
   "cell_type": "code",
   "execution_count": 8,
   "id": "touched-craft",
   "metadata": {},
   "outputs": [
    {
     "data": {
      "text/html": [
       "<div>\n",
       "<style scoped>\n",
       "    .dataframe tbody tr th:only-of-type {\n",
       "        vertical-align: middle;\n",
       "    }\n",
       "\n",
       "    .dataframe tbody tr th {\n",
       "        vertical-align: top;\n",
       "    }\n",
       "\n",
       "    .dataframe thead th {\n",
       "        text-align: right;\n",
       "    }\n",
       "</style>\n",
       "<table border=\"1\" class=\"dataframe\">\n",
       "  <thead>\n",
       "    <tr style=\"text-align: right;\">\n",
       "      <th></th>\n",
       "      <th>T1 (°C)</th>\n",
       "      <th>T2 (°C)</th>\n",
       "      <th>TF (°C)</th>\n",
       "      <th>M1 (gr)</th>\n",
       "      <th>M2 (gr)</th>\n",
       "      <th>resultado</th>\n",
       "    </tr>\n",
       "    <tr>\n",
       "      <th>Experiencia</th>\n",
       "      <th></th>\n",
       "      <th></th>\n",
       "      <th></th>\n",
       "      <th></th>\n",
       "      <th></th>\n",
       "      <th></th>\n",
       "    </tr>\n",
       "  </thead>\n",
       "  <tbody>\n",
       "    <tr>\n",
       "      <th>ck1</th>\n",
       "      <td>47.5</td>\n",
       "      <td>23.0</td>\n",
       "      <td>37.5</td>\n",
       "      <td>50.00</td>\n",
       "      <td>50.00</td>\n",
       "      <td>94.1</td>\n",
       "    </tr>\n",
       "    <tr>\n",
       "      <th>ck2</th>\n",
       "      <td>50.3</td>\n",
       "      <td>22.0</td>\n",
       "      <td>38.3</td>\n",
       "      <td>49.80</td>\n",
       "      <td>51.40</td>\n",
       "      <td>83.4</td>\n",
       "    </tr>\n",
       "    <tr>\n",
       "      <th>ck3</th>\n",
       "      <td>49.0</td>\n",
       "      <td>22.5</td>\n",
       "      <td>36.2</td>\n",
       "      <td>49.70</td>\n",
       "      <td>51.40</td>\n",
       "      <td>22.2</td>\n",
       "    </tr>\n",
       "    <tr>\n",
       "      <th>deltaH</th>\n",
       "      <td>23.5</td>\n",
       "      <td>29.0</td>\n",
       "      <td>5.5</td>\n",
       "      <td>99.52</td>\n",
       "      <td>0.94</td>\n",
       "      <td>-78.5</td>\n",
       "    </tr>\n",
       "  </tbody>\n",
       "</table>\n",
       "</div>"
      ],
      "text/plain": [
       "             T1 (°C)  T2 (°C)  TF (°C)  M1 (gr)  M2 (gr)  resultado\n",
       "Experiencia                                                        \n",
       "ck1             47.5     23.0     37.5    50.00    50.00       94.1\n",
       "ck2             50.3     22.0     38.3    49.80    51.40       83.4\n",
       "ck3             49.0     22.5     36.2    49.70    51.40       22.2\n",
       "deltaH          23.5     29.0      5.5    99.52     0.94      -78.5"
      ]
     },
     "metadata": {},
     "output_type": "display_data"
    },
    {
     "name": "stdout",
     "output_type": "stream",
     "text": [
      "Experiencia\n",
      "ck1        94.140000\n",
      "ck2        83.756707\n",
      "ck3        22.234038\n",
      "deltaH   -421.526378\n",
      "dtype: float64\n",
      "DH\n",
      "Experiencia\n",
      "ck1         8.635779\n",
      "ck2         9.814075\n",
      "ck3         9.181230\n",
      "deltaH   -103.569795\n",
      "dtype: float64\n",
      "[-103.61481150872012, -92.34944361688461, -89.66718917639596, -123.32968262290488, -96.93538373198565, -90.47043372888382, -114.0071232564671, -103.56979450193752]\n"
     ]
    }
   ],
   "source": [
    "# TOMÁS LEUNDA\n",
    "datos = pd.read_csv('LEUNDA_TP2.csv', index_col=0)\n",
    "display(datos)\n",
    "\n",
    "\n",
    "Ck = ck(datos['M1 (gr)'], datos['M2 (gr)'], datos['T1 (°C)'], datos['T2 (°C)'], datos['TF (°C)'])\n",
    "print(Ck)\n",
    "\n",
    "deltaH = dH(datos['M1 (gr)'], datos['M2 (gr)'], (Ck[2] + Ck[2])/2, datos['T1 (°C)'], datos['T2 (°C)'])\n",
    "print('DH')\n",
    "print(deltaH)\n",
    "\n",
    "dH_rxn.append(deltaH.iloc[-1])\n",
    "print(dH_rxn)"
   ]
  },
  {
   "cell_type": "code",
   "execution_count": 9,
   "id": "western-chess",
   "metadata": {},
   "outputs": [],
   "source": [
    "# LUCÍA MESYNGIER"
   ]
  },
  {
   "cell_type": "code",
   "execution_count": 10,
   "id": "celtic-gauge",
   "metadata": {},
   "outputs": [
    {
     "name": "stdout",
     "output_type": "stream",
     "text": [
      "Index(['T1', 'm1', 'T2', 'm2', 'Tf ', 'Resultado', 'Unidad'], dtype='object')\n",
      "Exp\n",
      "Ck1    42.808452\n",
      "Ck2    53.541714\n",
      "dH1          NaN\n",
      "dH2          NaN\n",
      "dtype: float64\n",
      "\n",
      "DH\n",
      "Experiencia\n",
      "ck1         8.635779\n",
      "ck2         9.814075\n",
      "ck3         9.181230\n",
      "deltaH   -103.569795\n",
      "dtype: float64\n",
      "[-103.61481150872012, -92.34944361688461, -89.66718917639596, -123.32968262290488, -96.93538373198565, -90.47043372888382, -114.0071232564671, -103.56979450193752, -103.56979450193752]\n"
     ]
    }
   ],
   "source": [
    "# AGUSTINA PEQUE\n",
    "datos = pd.read_csv('tptermo_agus.csv', index_col=0)\n",
    "#display(datos)\n",
    "print(datos.keys())\n",
    "datos.to_excel('datos_termo_para_lucia.xlsx')\n",
    "\n",
    "Ck = ck(datos['m1'], datos['m2'], datos['T1'], datos['T2'], datos['Tf '])\n",
    "print(Ck)\n",
    "\n",
    "#DeltaH = dH(datos['m1'], datos['m2'], (Ck[1] + Ck[0])/2, datos['T1'], datos['Tf '])\n",
    "DeltaH = dH(datos['m1'], datos['m2'], (41.9 + 46.75)/2, datos['T1'], datos['Tf '])\n",
    "print('\\nDH')\n",
    "print(deltaH)\n",
    "\n",
    "dH_rxn.append(deltaH.iloc[-1])\n",
    "print(dH_rxn)"
   ]
  },
  {
   "cell_type": "code",
   "execution_count": 11,
   "id": "controlling-chess",
   "metadata": {},
   "outputs": [
    {
     "data": {
      "text/html": [
       "<div>\n",
       "<style scoped>\n",
       "    .dataframe tbody tr th:only-of-type {\n",
       "        vertical-align: middle;\n",
       "    }\n",
       "\n",
       "    .dataframe tbody tr th {\n",
       "        vertical-align: top;\n",
       "    }\n",
       "\n",
       "    .dataframe thead th {\n",
       "        text-align: right;\n",
       "    }\n",
       "</style>\n",
       "<table border=\"1\" class=\"dataframe\">\n",
       "  <thead>\n",
       "    <tr style=\"text-align: right;\">\n",
       "      <th></th>\n",
       "      <th>Unnamed: 0</th>\n",
       "      <th>T1</th>\n",
       "      <th>T2</th>\n",
       "      <th>Tf</th>\n",
       "      <th>m1</th>\n",
       "      <th>m2</th>\n",
       "      <th>msc</th>\n",
       "      <th>mNaOH</th>\n",
       "      <th>resultado</th>\n",
       "      <th>Unnamed: 9</th>\n",
       "      <th>Unnamed: 10</th>\n",
       "      <th>Unnamed: 11</th>\n",
       "      <th>Unnamed: 12</th>\n",
       "    </tr>\n",
       "  </thead>\n",
       "  <tbody>\n",
       "    <tr>\n",
       "      <th>0</th>\n",
       "      <td>Ck 1</td>\n",
       "      <td>47.15</td>\n",
       "      <td>23.6</td>\n",
       "      <td>35.7</td>\n",
       "      <td>45.076</td>\n",
       "      <td>49.348</td>\n",
       "      <td>NaN</td>\n",
       "      <td>NaN</td>\n",
       "      <td>29.595</td>\n",
       "      <td>NaN</td>\n",
       "      <td>NaN</td>\n",
       "      <td>NaN</td>\n",
       "      <td>NaN</td>\n",
       "    </tr>\n",
       "    <tr>\n",
       "      <th>1</th>\n",
       "      <td>Ck 2</td>\n",
       "      <td>46.20</td>\n",
       "      <td>23.6</td>\n",
       "      <td>36.1</td>\n",
       "      <td>48.223</td>\n",
       "      <td>49.189</td>\n",
       "      <td>NaN</td>\n",
       "      <td>NaN</td>\n",
       "      <td>52.946</td>\n",
       "      <td>NaN</td>\n",
       "      <td>NaN</td>\n",
       "      <td>NaN</td>\n",
       "      <td>NaN</td>\n",
       "    </tr>\n",
       "    <tr>\n",
       "      <th>2</th>\n",
       "      <td>Delta H</td>\n",
       "      <td>22.90</td>\n",
       "      <td>NaN</td>\n",
       "      <td>27.8</td>\n",
       "      <td>NaN</td>\n",
       "      <td>NaN</td>\n",
       "      <td>99.509</td>\n",
       "      <td>1.011</td>\n",
       "      <td>-88709.000</td>\n",
       "      <td>NaN</td>\n",
       "      <td>NaN</td>\n",
       "      <td>NaN</td>\n",
       "      <td>NaN</td>\n",
       "    </tr>\n",
       "  </tbody>\n",
       "</table>\n",
       "</div>"
      ],
      "text/plain": [
       "  Unnamed: 0     T1    T2    Tf      m1      m2     msc  mNaOH  resultado  \\\n",
       "0       Ck 1  47.15  23.6  35.7  45.076  49.348     NaN    NaN     29.595   \n",
       "1       Ck 2  46.20  23.6  36.1  48.223  49.189     NaN    NaN     52.946   \n",
       "2    Delta H  22.90   NaN  27.8     NaN     NaN  99.509  1.011 -88709.000   \n",
       "\n",
       "   Unnamed: 9  Unnamed: 10  Unnamed: 11  Unnamed: 12  \n",
       "0         NaN          NaN          NaN          NaN  \n",
       "1         NaN          NaN          NaN          NaN  \n",
       "2         NaN          NaN          NaN          NaN  "
      ]
     },
     "metadata": {},
     "output_type": "display_data"
    },
    {
     "name": "stdout",
     "output_type": "stream",
     "text": [
      "0    29.595168\n",
      "1    52.946324\n",
      "2          NaN\n",
      "dtype: float64\n",
      "0          NaN\n",
      "1          NaN\n",
      "2   -89.526256\n",
      "dtype: float64\n",
      "[-103.61481150872012, -92.34944361688461, -89.66718917639596, -123.32968262290488, -96.93538373198565, -90.47043372888382, -114.0071232564671, -103.56979450193752, -103.56979450193752, -89.5262556305678]\n"
     ]
    }
   ],
   "source": [
    "# CAROLINA NICOLE SCHLAEN\n",
    "\n",
    "datos = pd.read_excel('Schlaen_Datos_TpTermo.xlsx')\n",
    "display(datos)\n",
    "\n",
    "Ck = ck(datos['m1'], datos['m2'], datos['T1'], datos['T2'], datos['Tf'])\n",
    "print(Ck)\n",
    "\n",
    "deltaH = dH(datos['msc'], datos['mNaOH'], (29.6+52.9)/2, datos['T1'], datos['Tf'])\n",
    "\n",
    "print(deltaH)\n",
    "\n",
    "dH_rxn.append(deltaH.iloc[-1])\n",
    "print(dH_rxn)"
   ]
  },
  {
   "cell_type": "code",
   "execution_count": 12,
   "id": "gross-rhythm",
   "metadata": {},
   "outputs": [
    {
     "data": {
      "text/html": [
       "<div>\n",
       "<style scoped>\n",
       "    .dataframe tbody tr th:only-of-type {\n",
       "        vertical-align: middle;\n",
       "    }\n",
       "\n",
       "    .dataframe tbody tr th {\n",
       "        vertical-align: top;\n",
       "    }\n",
       "\n",
       "    .dataframe thead th {\n",
       "        text-align: right;\n",
       "    }\n",
       "</style>\n",
       "<table border=\"1\" class=\"dataframe\">\n",
       "  <thead>\n",
       "    <tr style=\"text-align: right;\">\n",
       "      <th></th>\n",
       "      <th>Experiencia</th>\n",
       "      <th>T1 (C)</th>\n",
       "      <th>T2 (C)</th>\n",
       "      <th>Tf (C)</th>\n",
       "      <th>m1 (g)</th>\n",
       "      <th>m2 (g)</th>\n",
       "      <th>mHCl (g)</th>\n",
       "      <th>mNaOH (g)</th>\n",
       "      <th>Resultado</th>\n",
       "    </tr>\n",
       "  </thead>\n",
       "  <tbody>\n",
       "    <tr>\n",
       "      <th>0</th>\n",
       "      <td>Ck1</td>\n",
       "      <td>43.8</td>\n",
       "      <td>25.5</td>\n",
       "      <td>34.0</td>\n",
       "      <td>48.830</td>\n",
       "      <td>48.358</td>\n",
       "      <td>NaN</td>\n",
       "      <td>NaN</td>\n",
       "      <td>-28.786978</td>\n",
       "    </tr>\n",
       "    <tr>\n",
       "      <th>1</th>\n",
       "      <td>Ck2</td>\n",
       "      <td>43.5</td>\n",
       "      <td>25.5</td>\n",
       "      <td>34.9</td>\n",
       "      <td>48.872</td>\n",
       "      <td>49.092</td>\n",
       "      <td>NaN</td>\n",
       "      <td>NaN</td>\n",
       "      <td>20.008396</td>\n",
       "    </tr>\n",
       "    <tr>\n",
       "      <th>2</th>\n",
       "      <td>Ck3</td>\n",
       "      <td>44.3</td>\n",
       "      <td>22.7</td>\n",
       "      <td>34.0</td>\n",
       "      <td>49.729</td>\n",
       "      <td>49.712</td>\n",
       "      <td>NaN</td>\n",
       "      <td>NaN</td>\n",
       "      <td>20.103324</td>\n",
       "    </tr>\n",
       "    <tr>\n",
       "      <th>3</th>\n",
       "      <td>∆H1</td>\n",
       "      <td>24.0</td>\n",
       "      <td>NaN</td>\n",
       "      <td>28.6</td>\n",
       "      <td>NaN</td>\n",
       "      <td>NaN</td>\n",
       "      <td>100.136</td>\n",
       "      <td>1.0260</td>\n",
       "      <td>-78661.675077</td>\n",
       "    </tr>\n",
       "    <tr>\n",
       "      <th>4</th>\n",
       "      <td>∆H2</td>\n",
       "      <td>24.0</td>\n",
       "      <td>NaN</td>\n",
       "      <td>28.8</td>\n",
       "      <td>NaN</td>\n",
       "      <td>NaN</td>\n",
       "      <td>100.485</td>\n",
       "      <td>1.1625</td>\n",
       "      <td>-72684.702616</td>\n",
       "    </tr>\n",
       "  </tbody>\n",
       "</table>\n",
       "</div>"
      ],
      "text/plain": [
       "  Experiencia  T1 (C)  T2 (C)  Tf (C)  m1 (g)  m2 (g)  mHCl (g)  mNaOH (g)  \\\n",
       "0         Ck1    43.8    25.5    34.0  48.830  48.358       NaN        NaN   \n",
       "1         Ck2    43.5    25.5    34.9  48.872  49.092       NaN        NaN   \n",
       "2         Ck3    44.3    22.7    34.0  49.729  49.712       NaN        NaN   \n",
       "3         ∆H1    24.0     NaN    28.6     NaN     NaN   100.136     1.0260   \n",
       "4         ∆H2    24.0     NaN    28.8     NaN     NaN   100.485     1.1625   \n",
       "\n",
       "      Resultado  \n",
       "0    -28.786978  \n",
       "1     20.008396  \n",
       "2     20.103324  \n",
       "3 -78661.675077  \n",
       "4 -72684.702616  "
      ]
     },
     "metadata": {},
     "output_type": "display_data"
    },
    {
     "name": "stdout",
     "output_type": "stream",
     "text": [
      "0   -28.814525\n",
      "1    20.027543\n",
      "2    20.122562\n",
      "3          NaN\n",
      "4          NaN\n",
      "dtype: float64\n",
      "0          NaN\n",
      "1          NaN\n",
      "2          NaN\n",
      "3   -79.487384\n",
      "4   -73.539674\n",
      "dtype: float64\n",
      "[-103.61481150872012, -92.34944361688461, -89.66718917639596, -123.32968262290488, -96.93538373198565, -90.47043372888382, -114.0071232564671, -103.56979450193752, -103.56979450193752, -89.5262556305678, -73.5396736849755, -79.48738368328422]\n"
     ]
    }
   ],
   "source": [
    "# TOBÍAS VIOLA APREA\n",
    "datos = pd.read_excel('tp_termo_Toby.xlsx')\n",
    "display(datos)\n",
    "\n",
    "Ck = ck(datos['m1 (g)'], datos['m2 (g)'], datos['T1 (C)'], datos['T2 (C)'], datos['Tf (C)'])\n",
    "print(Ck)\n",
    "\n",
    "deltaH = dH(datos['mHCl (g)'], datos['mNaOH (g)'], 20, datos['T1 (C)'], datos['Tf (C)'])\n",
    "print(deltaH)\n",
    "\n",
    "dH_rxn.append(deltaH.iloc[-1])\n",
    "dH_rxn.append(deltaH.iloc[-2])\n",
    "print(dH_rxn)"
   ]
  },
  {
   "cell_type": "code",
   "execution_count": 13,
   "id": "breeding-designation",
   "metadata": {},
   "outputs": [
    {
     "data": {
      "text/html": [
       "<div>\n",
       "<style scoped>\n",
       "    .dataframe tbody tr th:only-of-type {\n",
       "        vertical-align: middle;\n",
       "    }\n",
       "\n",
       "    .dataframe tbody tr th {\n",
       "        vertical-align: top;\n",
       "    }\n",
       "\n",
       "    .dataframe thead th {\n",
       "        text-align: right;\n",
       "    }\n",
       "</style>\n",
       "<table border=\"1\" class=\"dataframe\">\n",
       "  <thead>\n",
       "    <tr style=\"text-align: right;\">\n",
       "      <th></th>\n",
       "      <th>EXP</th>\n",
       "      <th>T1</th>\n",
       "      <th>T2</th>\n",
       "      <th>TF</th>\n",
       "      <th>M1</th>\n",
       "      <th>M2</th>\n",
       "      <th>Ck</th>\n",
       "    </tr>\n",
       "  </thead>\n",
       "  <tbody>\n",
       "    <tr>\n",
       "      <th>0</th>\n",
       "      <td>1</td>\n",
       "      <td>45.6</td>\n",
       "      <td>25.0</td>\n",
       "      <td>37.2</td>\n",
       "      <td>49.157</td>\n",
       "      <td>49.513</td>\n",
       "      <td>95.27</td>\n",
       "    </tr>\n",
       "    <tr>\n",
       "      <th>1</th>\n",
       "      <td>2</td>\n",
       "      <td>47.0</td>\n",
       "      <td>25.0</td>\n",
       "      <td>38.9</td>\n",
       "      <td>49.603</td>\n",
       "      <td>49.766</td>\n",
       "      <td>149.73</td>\n",
       "    </tr>\n",
       "    <tr>\n",
       "      <th>2</th>\n",
       "      <td>3</td>\n",
       "      <td>45.9</td>\n",
       "      <td>25.0</td>\n",
       "      <td>37.4</td>\n",
       "      <td>49.644</td>\n",
       "      <td>49.141</td>\n",
       "      <td>92.30</td>\n",
       "    </tr>\n",
       "    <tr>\n",
       "      <th>3</th>\n",
       "      <td>1 (Ck=95.270)</td>\n",
       "      <td>25.4</td>\n",
       "      <td>NaN</td>\n",
       "      <td>31.2</td>\n",
       "      <td>93.343</td>\n",
       "      <td>1.084</td>\n",
       "      <td>NaN</td>\n",
       "    </tr>\n",
       "  </tbody>\n",
       "</table>\n",
       "</div>"
      ],
      "text/plain": [
       "             EXP    T1    T2    TF      M1      M2     Ck \n",
       "0              1  45.6  25.0  37.2  49.157  49.513   95.27\n",
       "1              2  47.0  25.0  38.9  49.603  49.766  149.73\n",
       "2              3  45.9  25.0  37.4  49.644  49.141   92.30\n",
       "3  1 (Ck=95.270)  25.4   NaN  31.2  93.343   1.084     NaN"
      ]
     },
     "metadata": {},
     "output_type": "display_data"
    },
    {
     "name": "stdout",
     "output_type": "stream",
     "text": [
      "Index([' EXP', 'T1', 'T2', 'TF', 'M1', 'M2', 'Ck '], dtype='object')\n"
     ]
    },
    {
     "data": {
      "text/plain": [
       "0     95.205824\n",
       "1    149.778470\n",
       "2     92.232293\n",
       "3           NaN\n",
       "dtype: float64"
      ]
     },
     "metadata": {},
     "output_type": "display_data"
    },
    {
     "data": {
      "text/plain": [
       "0      3.437269\n",
       "1      3.316698\n",
       "2      3.507848\n",
       "3   -104.606524\n",
       "dtype: float64"
      ]
     },
     "metadata": {},
     "output_type": "display_data"
    },
    {
     "name": "stdout",
     "output_type": "stream",
     "text": [
      "[-103.61481150872012, -92.34944361688461, -89.66718917639596, -123.32968262290488, -96.93538373198565, -90.47043372888382, -114.0071232564671, -103.56979450193752, -103.56979450193752, -89.5262556305678, -73.5396736849755, -79.48738368328422, -104.60652417851574]\n"
     ]
    }
   ],
   "source": [
    "# JULIÁN VILLA\n",
    "datos = pd.read_excel('tp_termo_julian_mod.xlsx')\n",
    "display(datos)\n",
    "print(datos.keys())\n",
    "\n",
    "Ck = ck(datos['M1'], datos['M2'], datos['T1'], datos['T2'], datos['TF'])\n",
    "display(Ck)\n",
    "\n",
    "deltaH = dH(datos['M1'], datos['M2'], (Ck[0] + Ck[2])/2, datos['T1'], datos['TF'])\n",
    "display(deltaH)\n",
    "\n",
    "dH_rxn.append(deltaH.iloc[-1])\n",
    "print(dH_rxn)"
   ]
  },
  {
   "cell_type": "code",
   "execution_count": 18,
   "id": "complimentary-rough",
   "metadata": {},
   "outputs": [
    {
     "data": {
      "application/vnd.jupyter.widget-view+json": {
       "model_id": "84f4108bddd14f4983efcf8afc48e824",
       "version_major": 2,
       "version_minor": 0
      },
      "text/plain": [
       "Canvas(toolbar=Toolbar(toolitems=[('Home', 'Reset original view', 'home', 'home'), ('Back', 'Back to previous …"
      ]
     },
     "metadata": {},
     "output_type": "display_data"
    }
   ],
   "source": [
    "plt.figure(figsize=(6, 6))\n",
    "dH_rxn = np.array(dH_rxn)\n",
    "\n",
    "plt.plot(dH_rxn, 'o', label='Mediciones')\n",
    "plt.ylabel(r'$\\Delta$H de la reacción completa')\n",
    "plt.xlabel('Número de determinación')\n",
    "\n",
    "dHsol = -44.50\n",
    "dHneut = -57.62\n",
    "\n",
    "plt.plot([0,12], [dHsol + dHneut, dHsol+dHneut], '--', label='valor esperado')\n",
    "plt.legend()\n",
    "plt.show()\n",
    "\n"
   ]
  },
  {
   "cell_type": "code",
   "execution_count": 17,
   "id": "large-copying",
   "metadata": {},
   "outputs": [
    {
     "data": {
      "application/vnd.jupyter.widget-view+json": {
       "model_id": "f25639d47d0b4481a40b6cd17e7fbf81",
       "version_major": 2,
       "version_minor": 0
      },
      "text/plain": [
       "interactive(children=(FloatSlider(value=5.2, description='DT', max=7.0, min=4.0, step=0.2), IntSlider(value=20…"
      ]
     },
     "metadata": {},
     "output_type": "display_data"
    }
   ],
   "source": [
    "%matplotlib widget\n",
    "\n",
    "def dH(dT, Ck):\n",
    "    m_h2o=100\n",
    "    m_naoh=1\n",
    "    Mr = 39.997\n",
    "    Cp = 4.184\n",
    "    m = m_h2o + m_naoh\n",
    "    return -(m * Cp * dT + Ck * dT) * Mr / m_naoh / 1000\n",
    "interact(dH, Ck=widgets.IntSlider(min=0, max=100, value = 20, step = 5, description=\"Ck\"),\n",
    "         dT= widgets.FloatSlider(min=4, max=7, value=5.2, step=0.2, description=\"DT\"));"
   ]
  }
 ],
 "metadata": {
  "kernelspec": {
   "display_name": "Python 3",
   "language": "python",
   "name": "python3"
  },
  "language_info": {
   "codemirror_mode": {
    "name": "ipython",
    "version": 3
   },
   "file_extension": ".py",
   "mimetype": "text/x-python",
   "name": "python",
   "nbconvert_exporter": "python",
   "pygments_lexer": "ipython3",
   "version": "3.8.5"
  }
 },
 "nbformat": 4,
 "nbformat_minor": 5
}
