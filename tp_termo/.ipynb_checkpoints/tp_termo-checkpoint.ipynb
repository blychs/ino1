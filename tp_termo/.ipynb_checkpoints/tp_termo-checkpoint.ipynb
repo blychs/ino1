{
 "cells": [
  {
   "cell_type": "code",
   "execution_count": 63,
   "id": "unlike-scholarship",
   "metadata": {},
   "outputs": [],
   "source": [
    "import numpy as np\n",
    "import pandas as pd\n",
    "import matplotlib.pyplot as plt\n",
    "\n",
    "def ck(m1, m2, t1, t2, tf):\n",
    "    Cp = 4.184\n",
    "    dT = lambda t, tf: tf - t\n",
    "    return(-(m1 * Cp * dT(t1, tf) + m2 * Cp * dT(t2, tf))/dT(t1, tf))\n",
    "\n",
    "def dH(m_h2o, m_naoh, ck, t1, tf):\n",
    "    Mr = 39.997\n",
    "    Cp = 4.184\n",
    "    dT = tf - t1\n",
    "    print(dT)\n",
    "    m = m_h2o + m_naoh\n",
    "    print(m)\n",
    "    return -(m * Cp * dT + ck * dT) * Mr / m_naoh "
   ]
  },
  {
   "cell_type": "code",
   "execution_count": 11,
   "id": "permanent-system",
   "metadata": {},
   "outputs": [
    {
     "data": {
      "text/plain": [
       "83.75670666666663"
      ]
     },
     "execution_count": 11,
     "metadata": {},
     "output_type": "execute_result"
    }
   ],
   "source": [
    "m1, m2 = 49.8, 51.4\n",
    "\n",
    "t1, t2, tf = 50.3, 22, 38.3\n",
    "\n",
    "ck(m1, m2, t1, t2,  tf)"
   ]
  },
  {
   "cell_type": "code",
   "execution_count": 64,
   "id": "rubber-update",
   "metadata": {},
   "outputs": [
    {
     "name": "stdout",
     "output_type": "stream",
     "text": [
      "Experiencia    deltaH\n",
      "T1 (°C)          23.5\n",
      "T2 (°C)          29.0\n",
      "TF (°C)           5.5\n",
      "M1 (gr)         99.52\n",
      "M2 (gr)          0.94\n",
      "resultado       -78.5\n",
      "Name: 3, dtype: object\n",
      "5.5\n",
      "100.46\n"
     ]
    },
    {
     "data": {
      "text/plain": [
       "-119428.72387599999"
      ]
     },
     "execution_count": 64,
     "metadata": {},
     "output_type": "execute_result"
    }
   ],
   "source": [
    "csv = pd.read_csv('LEUNDA_TP2.csv')\n",
    "#display(csv)\n",
    "\n",
    "exp_dH = csv.iloc[3]\n",
    "print(exp_dH)\n",
    "dH(exp_dH[4], exp_dH[5], 90, exp_dH[1], exp_dH[2])"
   ]
  }
 ],
 "metadata": {
  "kernelspec": {
   "display_name": "Python 3",
   "language": "python",
   "name": "python3"
  },
  "language_info": {
   "codemirror_mode": {
    "name": "ipython",
    "version": 3
   },
   "file_extension": ".py",
   "mimetype": "text/x-python",
   "name": "python",
   "nbconvert_exporter": "python",
   "pygments_lexer": "ipython3",
   "version": "3.8.5"
  }
 },
 "nbformat": 4,
 "nbformat_minor": 5
}
